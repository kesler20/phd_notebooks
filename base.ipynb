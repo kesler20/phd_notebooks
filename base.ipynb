{
 "cells": [
  {
   "cell_type": "code",
   "execution_count": null,
   "id": "d7c182b4",
   "metadata": {},
   "outputs": [],
   "source": [
    "import os\n",
    "import r3.schema as schema\n",
    "import r3.adapters as adapters\n",
    "\n",
    "\n",
    "home_directory = os.path.expanduser(\"~\")\n",
    "root_data_dir = os.path.join(\n",
    "    home_directory, \"protocol\", \"r3\", \"data\", \"experimental_data\"\n",
    ")\n",
    "X_columns = [\n",
    "    schema.IVTReactionSchema.NTP_M.value,\n",
    "    schema.IVTReactionSchema.T7RNAP_u_uL.value,\n",
    "    schema.IVTReactionSchema.DNA_ug_mL.value,\n",
    "    schema.IVTReactionSchema.Mg2_M.value,\n",
    "    schema.IVTReactionSchema.Spd_M.value,\n",
    "    schema.IVTReactionSchema.TIME_min.value,\n",
    "    # schema.IVTReactionSchema.pH.value,\n",
    "]\n",
    "y_columns = [schema.IVTReactionSchema.RNA_g_L.value]\n",
    "experimental_conditions, response = adapters.DataPipelineAdapter(\n",
    "    \"egfp_lhs\", root=root_data_dir\n",
    ").get(X_columns=X_columns, y_columns=y_columns)"
   ]
  }
 ],
 "metadata": {
  "kernelspec": {
   "display_name": "assimulo",
   "language": "python",
   "name": "python3"
  },
  "language_info": {
   "name": "python",
   "version": "3.12.11"
  }
 },
 "nbformat": 4,
 "nbformat_minor": 5
}
