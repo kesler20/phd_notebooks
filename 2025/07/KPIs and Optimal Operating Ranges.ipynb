{
 "cells": [
  {
   "cell_type": "markdown",
   "id": "ed66032d",
   "metadata": {},
   "source": [
    "# Background\n",
    "\n",
    "Can we use the current IVT model to find the optimal CPPs that optimise the KPIs?\n",
    "\n",
    "| Metric                                               | Full equation                                                               | Example calculation                                                                                                                   |\n",
    "| ---------------------------------------------------- | --------------------------------------------------------------------------- | ------------------------------------------------------------------------------------------------------------------------------------- |\n",
    "| RNA productivity ($P_{\\text{RNA}}$)                  | $P_{\\text{RNA}} = \\frac{m_{\\text{RNA}}}{V\\,t}$                              | 50 mg RNA in 10 mL over 2 h ⇒ $P_{\\text{RNA}}=\\dfrac{0.05\\text{ g}}{0.01\\text{ L}\\times2\\text{ h}}=2.5\\text{ g L}^{-1}\\text{ h}^{-1}$ |\n",
    "| RNA produced / DNA template ($Y_{\\text{RNA/DNA}}$)   | $Y_{\\text{RNA/DNA}} = \\frac{m_{\\text{RNA}}}{m_{\\text{DNA}}}$                | 50 mg RNA from 1 mg DNA ⇒ $Y_{\\text{RNA/DNA}}=\\dfrac{50\\text{ mg}}{1\\text{ mg}}=50$ g RNA g⁻¹ DNA                                     |\n",
    "| RNA produced / RNA-polymerase ($Y_{\\text{RNA/Pol}}$) | $Y_{\\text{RNA/Pol}} = \\frac{n_{\\text{RNA}}}{n_{\\text{Pol}}}$                | 0.2 µmol RNA from 0.005 µmol Pol ⇒ $Y_{\\text{RNA/Pol}}=\\dfrac{0.2}{0.005}=40$ RNA molecules per polymerase (turnovers)                |\n",
    "| NTP conversion ($X_{\\text{NTP}}$)                    | $X_{\\text{NTP}} = \\frac{n_{\\text{NTP,0}}-n_{\\text{NTP}}}{n_{\\text{NTP,0}}}$ | 100 µmol initial, 40 µmol remaining ⇒ $X_{\\text{NTP}}=\\dfrac{100-40}{100}=0.60$ (60 % conversion)                                     |"
   ]
  },
  {
   "cell_type": "code",
   "execution_count": null,
   "id": "1c5c324a",
   "metadata": {},
   "outputs": [],
   "source": [
    "from r3.models."
   ]
  }
 ],
 "metadata": {
  "kernelspec": {
   "display_name": "assimulo",
   "language": "python",
   "name": "python3"
  },
  "language_info": {
   "name": "python",
   "version": "3.12.11"
  }
 },
 "nbformat": 4,
 "nbformat_minor": 5
}
