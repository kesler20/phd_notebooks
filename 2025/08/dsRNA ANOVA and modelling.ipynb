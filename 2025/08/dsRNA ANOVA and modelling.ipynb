{
 "cells": [
  {
   "cell_type": "code",
   "execution_count": null,
   "id": "15007810",
   "metadata": {},
   "outputs": [
    {
     "name": "stdout",
     "output_type": "stream",
     "text": [
      "📊 Extracted DataFrame with columns ['NTPs [M]', 'T7RNAP [units/uL]', 'DNA [µg/mL]', 'Mg2+ [M]', 'Reaction Time [min]'] and ['dsRNA [%]']\n",
      "X shape: (80, 5), y shape: (80, 1)\n",
      "X head:\n",
      "   NTPs [M]  T7RNAP [units/uL]  DNA [µg/mL]  Mg2+ [M]  Reaction Time [min]\n",
      "0  0.002237         109.285882    49.217245  0.013340            15.975448\n",
      "1  0.011370         102.000948    92.963862  0.045625           205.895482\n",
      "2  0.013120         301.864929    91.286401  0.034906            89.767563\n",
      "3  0.012105         277.820595    61.743404  0.026270            44.601100\n",
      "4  0.012105         277.820595    61.743404  0.026270            44.601100\n",
      "y head:\n",
      "   dsRNA [%]\n",
      "0   2.130682\n",
      "1   0.411220\n",
      "2   0.035209\n",
      "3   0.422909\n",
      "4   0.150595\n"
     ]
    },
    {
     "data": {
      "text/html": [
       "<div>\n",
       "<style scoped>\n",
       "    .dataframe tbody tr th:only-of-type {\n",
       "        vertical-align: middle;\n",
       "    }\n",
       "\n",
       "    .dataframe tbody tr th {\n",
       "        vertical-align: top;\n",
       "    }\n",
       "\n",
       "    .dataframe thead th {\n",
       "        text-align: right;\n",
       "    }\n",
       "</style>\n",
       "<table border=\"1\" class=\"dataframe\">\n",
       "  <thead>\n",
       "    <tr style=\"text-align: right;\">\n",
       "      <th></th>\n",
       "      <th>NTPs [M]</th>\n",
       "      <th>T7RNAP [units/uL]</th>\n",
       "      <th>DNA [µg/mL]</th>\n",
       "      <th>Mg2+ [M]</th>\n",
       "      <th>Reaction Time [min]</th>\n",
       "    </tr>\n",
       "  </thead>\n",
       "  <tbody>\n",
       "    <tr>\n",
       "      <th>0</th>\n",
       "      <td>0.002237</td>\n",
       "      <td>109.285882</td>\n",
       "      <td>49.217245</td>\n",
       "      <td>0.013340</td>\n",
       "      <td>15.975448</td>\n",
       "    </tr>\n",
       "    <tr>\n",
       "      <th>1</th>\n",
       "      <td>0.011370</td>\n",
       "      <td>102.000948</td>\n",
       "      <td>92.963862</td>\n",
       "      <td>0.045625</td>\n",
       "      <td>205.895482</td>\n",
       "    </tr>\n",
       "    <tr>\n",
       "      <th>2</th>\n",
       "      <td>0.013120</td>\n",
       "      <td>301.864929</td>\n",
       "      <td>91.286401</td>\n",
       "      <td>0.034906</td>\n",
       "      <td>89.767563</td>\n",
       "    </tr>\n",
       "    <tr>\n",
       "      <th>3</th>\n",
       "      <td>0.012105</td>\n",
       "      <td>277.820595</td>\n",
       "      <td>61.743404</td>\n",
       "      <td>0.026270</td>\n",
       "      <td>44.601100</td>\n",
       "    </tr>\n",
       "    <tr>\n",
       "      <th>4</th>\n",
       "      <td>0.012105</td>\n",
       "      <td>277.820595</td>\n",
       "      <td>61.743404</td>\n",
       "      <td>0.026270</td>\n",
       "      <td>44.601100</td>\n",
       "    </tr>\n",
       "    <tr>\n",
       "      <th>...</th>\n",
       "      <td>...</td>\n",
       "      <td>...</td>\n",
       "      <td>...</td>\n",
       "      <td>...</td>\n",
       "      <td>...</td>\n",
       "    </tr>\n",
       "    <tr>\n",
       "      <th>75</th>\n",
       "      <td>0.014942</td>\n",
       "      <td>359.010522</td>\n",
       "      <td>54.952946</td>\n",
       "      <td>0.054598</td>\n",
       "      <td>143.752553</td>\n",
       "    </tr>\n",
       "    <tr>\n",
       "      <th>76</th>\n",
       "      <td>0.002423</td>\n",
       "      <td>148.507894</td>\n",
       "      <td>81.381476</td>\n",
       "      <td>0.009032</td>\n",
       "      <td>188.421396</td>\n",
       "    </tr>\n",
       "    <tr>\n",
       "      <th>77</th>\n",
       "      <td>0.008220</td>\n",
       "      <td>337.662327</td>\n",
       "      <td>74.517838</td>\n",
       "      <td>0.028639</td>\n",
       "      <td>73.872966</td>\n",
       "    </tr>\n",
       "    <tr>\n",
       "      <th>78</th>\n",
       "      <td>0.011866</td>\n",
       "      <td>287.674023</td>\n",
       "      <td>69.082018</td>\n",
       "      <td>0.067321</td>\n",
       "      <td>92.660776</td>\n",
       "    </tr>\n",
       "    <tr>\n",
       "      <th>79</th>\n",
       "      <td>0.008390</td>\n",
       "      <td>316.433038</td>\n",
       "      <td>65.898024</td>\n",
       "      <td>0.057782</td>\n",
       "      <td>30.482881</td>\n",
       "    </tr>\n",
       "  </tbody>\n",
       "</table>\n",
       "<p>80 rows × 5 columns</p>\n",
       "</div>"
      ],
      "text/plain": [
       "    NTPs [M]  T7RNAP [units/uL]  DNA [µg/mL]  Mg2+ [M]  Reaction Time [min]\n",
       "0   0.002237         109.285882    49.217245  0.013340            15.975448\n",
       "1   0.011370         102.000948    92.963862  0.045625           205.895482\n",
       "2   0.013120         301.864929    91.286401  0.034906            89.767563\n",
       "3   0.012105         277.820595    61.743404  0.026270            44.601100\n",
       "4   0.012105         277.820595    61.743404  0.026270            44.601100\n",
       "..       ...                ...          ...       ...                  ...\n",
       "75  0.014942         359.010522    54.952946  0.054598           143.752553\n",
       "76  0.002423         148.507894    81.381476  0.009032           188.421396\n",
       "77  0.008220         337.662327    74.517838  0.028639            73.872966\n",
       "78  0.011866         287.674023    69.082018  0.067321            92.660776\n",
       "79  0.008390         316.433038    65.898024  0.057782            30.482881\n",
       "\n",
       "[80 rows x 5 columns]"
      ]
     },
     "execution_count": 2,
     "metadata": {},
     "output_type": "execute_result"
    }
   ],
   "source": [
    "import r3.adapters as adapters\n",
    "import r3.schema as schema\n",
    "\n",
    "X_columns = [\n",
    "    schema.IVTReactionSchema.NTP_M.value,\n",
    "    schema.IVTReactionSchema.T7RNAP_u_uL.value,\n",
    "    schema.IVTReactionSchema.DNA_ug_mL.value,\n",
    "    schema.IVTReactionSchema.Mg2_M.value,\n",
    "    schema.IVTReactionSchema.TIME_min.value,\n",
    "]\n",
    "y_columns = [schema.IVTReactionSchema.dsRNA_percent.value]\n",
    "\n",
    "experimental_conditions, responses = adapters.DataPipelineAdapter(\"dsrna_lhs\").get(\n",
    "    X_columns=X_columns,\n",
    "    y_columns=y_columns,\n",
    ")\n",
    "\n",
    "experimental_conditions"
   ]
  },
  {
   "cell_type": "code",
   "execution_count": 4,
   "id": "ec152cd7",
   "metadata": {},
   "outputs": [
    {
     "data": {
      "image/png": "[encoded data removed]",
      "text/plain": [
       "<Figure size 1500x1000 with 5 Axes>"
      ]
     },
     "metadata": {},
     "output_type": "display_data"
    }
   ],
   "source": [
    "# plot the experimental conditions against the response in a grid\n",
    "import matplotlib.pyplot as plt\n",
    "import seaborn as sns\n",
    "\n",
    "experimental_data = experimental_conditions.copy()\n",
    "experimental_data[y_columns[0]] = responses\n",
    "sns.set(style=\"whitegrid\")\n",
    "plt.figure(figsize=(15, 10))\n",
    "for i, col in enumerate(X_columns):\n",
    "    plt.subplot(3, 3, i + 1)\n",
    "    sns.scatterplot(data=experimental_data, x=col, y=y_columns[0])\n",
    "    plt.title(f\"{col} vs {y_columns[0]}\")\n",
    "    plt.xlabel(col)\n",
    "    plt.ylabel(y_columns[0])\n",
    "plt.tight_layout()"
   ]
  },
  {
   "cell_type": "code",
   "execution_count": 5,
   "id": "6b3ab1f4",
   "metadata": {},
   "outputs": [
    {
     "data": {
      "image/png": "[encoded data removed]",
      "text/plain": [
       "<Figure size 1000x600 with 1 Axes>"
      ]
     },
     "metadata": {},
     "output_type": "display_data"
    }
   ],
   "source": [
    "# Calculate the correlation coefficients with the yield variable\n",
    "corr_matrix = experimental_data.corr()\n",
    "correlations = corr_matrix[y_columns[0]].drop(y_columns[0])\n",
    "\n",
    "# Sort the correlations in descending order\n",
    "correlations = correlations.abs().sort_values(ascending=False)\n",
    "\n",
    "# Create a horizontal bar chart of the correlations\n",
    "plt.figure(figsize=(10, 6))\n",
    "plt.barh(correlations.index, correlations.values)\n",
    "plt.xlabel(\"Correlation\")\n",
    "plt.ylabel(\"Variables\")\n",
    "plt.title(\"Correlation with Yield Variable\")\n",
    "plt.tight_layout()\n",
    "# add correlation values to the bars\n",
    "for index, value in enumerate(correlations):\n",
    "    plt.text(value, index, f\"{value:.2f}\", va=\"center\")"
   ]
  },
  {
   "cell_type": "code",
   "execution_count": 11,
   "id": "5ffba220",
   "metadata": {},
   "outputs": [
    {
     "data": {
      "image/png": "[encoded data removed]",
      "text/plain": [
       "<Figure size 1000x600 with 1 Axes>"
      ]
     },
     "metadata": {},
     "output_type": "display_data"
    }
   ],
   "source": [
    "from scipy import stats\n",
    "import numpy as np\n",
    "\n",
    "# Fit a normal distribution\n",
    "mu, std = stats.norm.fit(responses.values)\n",
    "\n",
    "# Plot histogram and fitted PDF\n",
    "plt.figure(figsize=(10, 6))\n",
    "sns.histplot(\n",
    "    responses.values, bins=30, kde=False, stat=\"density\", color=\"skyblue\", label=\"Data\"\n",
    ")\n",
    "xmin, xmax = plt.xlim()\n",
    "x = np.linspace(xmin, xmax, 100)\n",
    "p = stats.norm.pdf(x, mu, std)\n",
    "plt.plot(x, p, \"r\", linewidth=2, label=f\"Normal fit\\nμ={mu:.2f}, σ={std:.2f}\")\n",
    "plt.title(\"dsRNA % Distribution with Fitted Normal Curve\")\n",
    "plt.xlabel(\"dsRNA (%)\")\n",
    "plt.ylabel(\"Density\")\n",
    "plt.legend()\n",
    "plt.show()"
   ]
  },
  {
   "cell_type": "code",
   "execution_count": null,
   "id": "b4cc3e39",
   "metadata": {},
   "outputs": [
    {
     "ename": "FitDataError",
     "evalue": "Invalid values in `data`.  Maximum likelihood estimation with 'gamma' requires that 0 < (x - loc)/scale  < inf for each x in `data`.",
     "output_type": "error",
     "traceback": [
      "\u001b[31m---------------------------------------------------------------------------\u001b[39m",
      "\u001b[31mFitDataError\u001b[39m                              Traceback (most recent call last)",
      "\u001b[32m~\\AppData\\Local\\Temp\\ipykernel_94140\\1417924634.py\u001b[39m in \u001b[36m?\u001b[39m\u001b[34m()\u001b[39m\n\u001b[32m     19\u001b[39m         shape, loc, scale = dist.fit(rna_yield, floc=\u001b[32m0\u001b[39m)\n\u001b[32m     20\u001b[39m         pdf = dist.pdf(x, shape, loc, scale)\n\u001b[32m     21\u001b[39m         label = f\"shape={shape:.2f}\\nloc={loc:.2f}\\nscale={scale:.2f}\"\n\u001b[32m     22\u001b[39m     \u001b[38;5;28;01melif\u001b[39;00m name == \u001b[33m\"Gamma\"\u001b[39m:\n\u001b[32m---> \u001b[39m\u001b[32m23\u001b[39m         a, loc, scale = dist.fit(rna_yield, floc=\u001b[32m0\u001b[39m)\n\u001b[32m     24\u001b[39m         pdf = dist.pdf(x, a, loc, scale)\n\u001b[32m     25\u001b[39m         label = f\"a={a:.2f}\\nloc={loc:.2f}\\nscale={scale:.2f}\"\n\u001b[32m     26\u001b[39m     \u001b[38;5;28;01melif\u001b[39;00m name == \u001b[33m\"Negative Binomial\"\u001b[39m:\n",
      "\u001b[32mc:\\Users\\Kesler\\anaconda3\\envs\\assimulo\\Lib\\site-packages\\scipy\\stats\\_continuous_distns.py\u001b[39m in \u001b[36m?\u001b[39m\u001b[34m(self, data, *args, **kwds)\u001b[39m\n\u001b[32m   3707\u001b[39m         \u001b[38;5;66;03m# Special case: loc is fixed.\u001b[39;00m\n\u001b[32m   3708\u001b[39m \n\u001b[32m   3709\u001b[39m         \u001b[38;5;66;03m# NB: data == loc is ok if a >= 1; the below check is more strict.\u001b[39;00m\n\u001b[32m   3710\u001b[39m         \u001b[38;5;28;01mif\u001b[39;00m np.any(data <= floc):\n\u001b[32m-> \u001b[39m\u001b[32m3711\u001b[39m             \u001b[38;5;28;01mraise\u001b[39;00m FitDataError(\u001b[33m\"gamma\"\u001b[39m, lower=floc, upper=np.inf)\n\u001b[32m   3712\u001b[39m \n\u001b[32m   3713\u001b[39m         \u001b[38;5;28;01mif\u001b[39;00m floc != \u001b[32m0\u001b[39m:\n\u001b[32m   3714\u001b[39m             \u001b[38;5;66;03m# Don't do the subtraction in-place, because `data` might be a\u001b[39;00m\n",
      "\u001b[31mFitDataError\u001b[39m: Invalid values in `data`.  Maximum likelihood estimation with 'gamma' requires that 0 < (x - loc)/scale  < inf for each x in `data`."
     ]
    },
    {
     "data": {
      "image/png": "[encoded data removed]",
      "text/plain": [
       "<Figure size 1600x800 with 2 Axes>"
      ]
     },
     "metadata": {},
     "output_type": "display_data"
    }
   ],
   "source": [
    "rna_yield = responses[y_columns[0]].dropna().values\n",
    "\n",
    "# List of distributions to fit (Beta removed)\n",
    "distributions = {\n",
    "    \"Normal\": stats.norm,\n",
    "    \"Log-Normal\": stats.lognorm,\n",
    "    \"Gamma\": stats.gamma,\n",
    "    \"Exponential\": stats.expon,\n",
    "    \"Negative Binomial\": stats.nbinom,\n",
    "    \"Weibull\": stats.weibull_min,\n",
    "}\n",
    "\n",
    "plt.figure(figsize=(16, 8))\n",
    "for i, (name, dist) in enumerate(distributions.items(), 1):\n",
    "    plt.subplot(2, 3, i)\n",
    "    sns.histplot(\n",
    "        rna_yield, bins=30, kde=False, stat=\"density\", color=\"skyblue\", label=\"Data\"\n",
    "    )\n",
    "    xmin, xmax = plt.xlim()\n",
    "    x = np.linspace(xmin, xmax, 200)\n",
    "    if name == \"Log-Normal\":\n",
    "        shape, loc, scale = dist.fit(rna_yield, floc=0)\n",
    "        pdf = dist.pdf(x, shape, loc, scale)\n",
    "        label = f\"shape={shape:.2f}\\nloc={loc:.2f}\\nscale={scale:.2f}\"\n",
    "    elif name == \"Gamma\":\n",
    "        a, loc, scale = dist.fit(rna_yield, floc=0)\n",
    "        pdf = dist.pdf(x, a, loc, scale)\n",
    "        label = f\"a={a:.2f}\\nloc={loc:.2f}\\nscale={scale:.2f}\"\n",
    "    elif name == \"Negative Binomial\":\n",
    "        data_nb = np.round(rna_yield - rna_yield.min()).astype(int)\n",
    "        data_nb = data_nb[data_nb >= 0]\n",
    "        mean_nb = np.mean(data_nb)\n",
    "        var_nb = np.var(data_nb)\n",
    "        if var_nb > mean_nb:\n",
    "            p = mean_nb / var_nb\n",
    "            n = mean_nb * p / (1 - p)\n",
    "            x_nb = np.arange(data_nb.min(), data_nb.max() + 1)\n",
    "            pmf = stats.nbinom.pmf(x_nb, n, p)\n",
    "            plt.stem(\n",
    "                x_nb + rna_yield.min(),\n",
    "                pmf,\n",
    "                linefmt=\"r-\",\n",
    "                markerfmt=\"ro\",\n",
    "                basefmt=\" \",\n",
    "                label=f\"n={n:.2f}\\np={p:.2f}\",\n",
    "            )\n",
    "            label = f\"n={n:.2f}\\np={p:.2f}\"\n",
    "        else:\n",
    "            label = \"var <= mean, NB not valid\"\n",
    "        pdf = None\n",
    "    elif name == \"Weibull\":\n",
    "        c, loc, scale = dist.fit(rna_yield, floc=0)\n",
    "        pdf = dist.pdf(x, c, loc, scale)\n",
    "        label = f\"c={c:.2f}\\nloc={loc:.2f}\\nscale={scale:.2f}\"\n",
    "    else:\n",
    "        params = dist.fit(rna_yield)\n",
    "        pdf = dist.pdf(x, *params)\n",
    "        label = \"\\n\".join([f\"{p:.2f}\" for p in params])\n",
    "    if name != \"Negative Binomial\":\n",
    "        plt.plot(x, pdf, \"r\", label=f\"{name} fit\\n{label}\")\n",
    "    plt.title(f\"{name} Distribution\")\n",
    "    plt.xlabel(\"dsRNA (%)\")\n",
    "    plt.ylabel(\"Density\")\n",
    "    plt.legend()\n",
    "plt.tight_layout()\n",
    "plt.show()\n",
    "\n",
    "# Statistical tests\n",
    "print(\"Normality Tests:\")\n",
    "shapiro_stat, shapiro_p = stats.shapiro(rna_yield)\n",
    "print(f\"Shapiro-Wilk: W={shapiro_stat:.3f}, p={shapiro_p:.3g}\")\n",
    "ad_result = stats.anderson(rna_yield, dist=\"norm\")\n",
    "print(\n",
    "    f\"Anderson-Darling: statistic={ad_result.statistic:.3f}, critical_values={ad_result.critical_values}\"\n",
    ")\n",
    "\n",
    "print(\"\\nGoodness-of-fit (Kolmogorov-Smirnov) for each distribution:\")\n",
    "for name, dist in distributions.items():\n",
    "    try:\n",
    "        if name == \"Log-Normal\":\n",
    "            params = dist.fit(rna_yield, floc=0)\n",
    "            d_stat, p_val = stats.kstest(rna_yield, \"lognorm\", args=params)\n",
    "        elif name == \"Negative Binomial\":\n",
    "            data_nb = np.round(rna_yield - rna_yield.min()).astype(int)\n",
    "            data_nb = data_nb[data_nb >= 0]\n",
    "            mean_nb = np.mean(data_nb)\n",
    "            var_nb = np.var(data_nb)\n",
    "            if var_nb > mean_nb:\n",
    "                p = mean_nb / var_nb\n",
    "                n = mean_nb * p / (1 - p)\n",
    "                d_stat, p_val = stats.kstest(data_nb, \"nbinom\", args=(n, p, 0))\n",
    "                print(f\"{name}: KS statistic={d_stat:.3f}, p={p_val:.3g}\")\n",
    "            else:\n",
    "                print(f\"{name}: KS test not valid (var <= mean)\")\n",
    "            continue\n",
    "        elif name == \"Weibull\":\n",
    "            params = dist.fit(rna_yield, floc=0)\n",
    "            d_stat, p_val = stats.kstest(rna_yield, \"weibull_min\", args=params)\n",
    "        elif name == \"Normal\":\n",
    "            params = dist.fit(rna_yield)\n",
    "            d_stat, p_val = stats.kstest(rna_yield, \"norm\", args=params)\n",
    "        elif name == \"Exponential\":\n",
    "            params = dist.fit(rna_yield)\n",
    "            d_stat, p_val = stats.kstest(rna_yield, \"expon\", args=params)\n",
    "        else:\n",
    "            params = dist.fit(rna_yield)\n",
    "            d_stat, p_val = stats.kstest(rna_yield, name.lower(), args=params)\n",
    "        print(f\"{name}: KS statistic={d_stat:.3f}, p={p_val:.3g}\")\n",
    "    except Exception as e:\n",
    "        print(f\"{name}: KS test not available ({e})\")"
   ]
  },
  {
   "cell_type": "code",
   "execution_count": 19,
   "id": "4d54aaa1",
   "metadata": {},
   "outputs": [
    {
     "name": "stdout",
     "output_type": "stream",
     "text": [
      "Root Mean squared error on training set: 1.3233723590128565\n",
      "R-squared score on training: 0.017313048978928713\n"
     ]
    },
    {
     "data": {
      "text/plain": [
       "<matplotlib.legend.Legend at 0x1d44b9d4740>"
      ]
     },
     "execution_count": 19,
     "metadata": {},
     "output_type": "execute_result"
    },
    {
     "data": {
      "image/png": "[encoded data removed]",
      "text/plain": [
       "<Figure size 1000x600 with 1 Axes>"
      ]
     },
     "metadata": {},
     "output_type": "display_data"
    }
   ],
   "source": [
    "from sklearn.gaussian_process import GaussianProcessRegressor\n",
    "from sklearn.gaussian_process.kernels import Matern, WhiteKernel, ConstantKernel as C\n",
    "from sklearn.preprocessing import StandardScaler\n",
    "from sklearn.metrics import mean_squared_error\n",
    "import pandas as pd\n",
    "\n",
    "X_train, y_train = experimental_conditions[X_columns], responses[y_columns[0]]\n",
    "\n",
    "scaler_x = StandardScaler()\n",
    "scaler_y = StandardScaler()\n",
    "X_train_scaled = scaler_x.fit_transform(X_train)\n",
    "y_train_scaled = scaler_y.fit_transform(y_train.values.reshape(-1, 1)).flatten()\n",
    "\n",
    "df = pd.DataFrame(X_train_scaled, columns=X_columns)\n",
    "df[y_columns[0]] = y_train_scaled\n",
    "\n",
    "matern_gp_model = GaussianProcessRegressor(\n",
    "    kernel=C(1.0, (1e-2, 1e2))\n",
    "    * Matern(length_scale=1.0, length_scale_bounds=(1e-2, 1e2), nu=2.5)\n",
    "    + WhiteKernel(noise_level=1.0, noise_level_bounds=(1e-2, 1e2)),\n",
    "    n_restarts_optimizer=100,\n",
    "    random_state=42,\n",
    ")\n",
    "matern_gp_model.fit(X_train_scaled, y_train_scaled)\n",
    "\n",
    "# Training set predictions\n",
    "pre_scaled_pred = matern_gp_model.predict(X_train_scaled)\n",
    "predictions = scaler_y.inverse_transform(pre_scaled_pred.reshape(-1, 1)).flatten()\n",
    "print(\n",
    "    \"Root Mean squared error on training set:\",\n",
    "    np.sqrt(mean_squared_error(y_train, predictions)),\n",
    ")\n",
    "print(\n",
    "    \"R-squared score on training:\",\n",
    "    matern_gp_model.score(X_train_scaled, y_train_scaled),\n",
    ")\n",
    "\n",
    "x_axis = np.arange(len(X_train))\n",
    "plt.figure(figsize=(10, 6))\n",
    "plt.scatter(\n",
    "    x_axis,\n",
    "    predictions,\n",
    "    label=\"Predicted RNA Yield\",\n",
    "    color=\"blue\",\n",
    "    marker=\"o\",\n",
    ")\n",
    "plt.scatter(x_axis, y_train, label=\"True RNA Yield\", color=\"red\", marker=\"x\")\n",
    "plt.fill_between(\n",
    "    x_axis,\n",
    "    predictions - 1.96 * np.sqrt(matern_gp_model.kernel_.k2.noise_level),\n",
    "    predictions + 1.96 * np.sqrt(matern_gp_model.kernel_.k2.noise_level),\n",
    "    color=\"gray\",\n",
    "    alpha=0.5,\n",
    "    label=\"95% Confidence Interval\",\n",
    ")\n",
    "plt.xlabel(\"Sample Index\")\n",
    "plt.ylabel(schema.IVTReactionSchema.RNA_g_L.value)\n",
    "plt.title(\"Predicted vs Actual RNA Yield with Uncertainty Bounds\")\n",
    "plt.legend()"
   ]
  },
  {
   "cell_type": "code",
   "execution_count": 23,
   "id": "8be40b3f",
   "metadata": {},
   "outputs": [
    {
     "name": "stdout",
     "output_type": "stream",
     "text": [
      "                            OLS Regression Results                            \n",
      "==============================================================================\n",
      "Dep. Variable:                  dsRNA   R-squared:                       0.213\n",
      "Model:                            OLS   Adj. R-squared:                 -0.152\n",
      "Method:                 Least Squares   F-statistic:                    0.5830\n",
      "Date:                Fri, 22 Aug 2025   Prob (F-statistic):              0.929\n",
      "Time:                        09:39:49   Log-Likelihood:                -127.07\n",
      "No. Observations:                  80   AIC:                             306.1\n",
      "Df Residuals:                      54   BIC:                             368.1\n",
      "Df Model:                          25                                         \n",
      "Covariance Type:            nonrobust                                         \n",
      "==================================================================================================\n",
      "                                     coef    std err          t      P>|t|      [0.025      0.975]\n",
      "--------------------------------------------------------------------------------------------------\n",
      "Intercept                          1.3943      6.311      0.221      0.826     -11.259      14.048\n",
      "NTP_M                           1602.0619   1227.201      1.305      0.197    -858.328    4062.452\n",
      "T7RNAP_u_uL                       -0.0163      0.038     -0.431      0.668      -0.092       0.059\n",
      "DNA_ug_mL                          0.0128      0.096      0.133      0.895      -0.181       0.206\n",
      "Mg2_M                           -123.6289    249.885     -0.495      0.623    -624.618     377.360\n",
      "TIME_min                           0.0130      0.069      0.188      0.851      -0.125       0.151\n",
      "NTP_M:Mg2_M                    -3274.1549   1.93e+04     -0.170      0.866    -4.2e+04    3.54e+04\n",
      "T7RNAP_u_uL:NTP_M                 -3.2116      4.687     -0.685      0.496     -12.608       6.185\n",
      "T7RNAP_u_uL:DNA_ug_mL              0.0001      0.000      0.293      0.771      -0.001       0.001\n",
      "T7RNAP_u_uL:Mg2_M                  0.5318      0.804      0.662      0.511      -1.079       2.143\n",
      "T7RNAP_u_uL:TIME_min               0.0002      0.000      0.656      0.514      -0.000       0.001\n",
      "DNA_ug_mL:Mg2_M                    0.4479      2.439      0.184      0.855      -4.443       5.338\n",
      "DNA_ug_mL:TIME_min               2.06e-05      0.001      0.024      0.981      -0.002       0.002\n",
      "Mg2_M:TIME_min                     0.0395      0.877      0.045      0.964      -1.719       1.798\n",
      "NTP_M:DNA_ug_mL                  -17.3586     14.593     -1.190      0.239     -46.616      11.899\n",
      "NTP_M:T7RNAP_u_uL:DNA_ug_mL        0.0283      0.050      0.564      0.575      -0.072       0.129\n",
      "NTP_M:T7RNAP_u_uL:Mg2_M          -14.5946     38.302     -0.381      0.705     -91.384      62.195\n",
      "NTP_M:TIME_min                    -8.8935      5.515     -1.613      0.113     -19.950       2.163\n",
      "NTP_M:T7RNAP_u_uL:TIME_min         0.0144      0.017      0.839      0.405      -0.020       0.049\n",
      "NTP_M:DNA_ug_mL:Mg2_M             61.1276    157.031      0.389      0.699    -253.700     375.956\n",
      "NTP_M:DNA_ug_mL:TIME_min           0.0454      0.059      0.763      0.449      -0.074       0.165\n",
      "NTP_M:Mg2_M:TIME_min              51.8681     47.435      1.093      0.279     -43.234     146.970\n",
      "T7RNAP_u_uL:DNA_ug_mL:Mg2_M       -0.0017      0.007     -0.225      0.823      -0.016       0.013\n",
      "T7RNAP_u_uL:DNA_ug_mL:TIME_min -1.793e-06   2.73e-06     -0.656      0.515   -7.27e-06    3.69e-06\n",
      "T7RNAP_u_uL:Mg2_M:TIME_min        -0.0023      0.003     -0.816      0.418      -0.008       0.003\n",
      "DNA_ug_mL:Mg2_M:TIME_min           0.0023      0.007      0.334      0.739      -0.012       0.016\n",
      "==============================================================================\n",
      "Omnibus:                       29.082   Durbin-Watson:                   1.921\n",
      "Prob(Omnibus):                  0.000   Jarque-Bera (JB):               47.924\n",
      "Skew:                           1.464   Prob(JB):                     3.92e-11\n",
      "Kurtosis:                       5.408   Cond. No.                     2.40e+11\n",
      "==============================================================================\n",
      "\n",
      "Notes:\n",
      "[1] Standard Errors assume that the covariance matrix of the errors is correctly specified.\n",
      "[2] The condition number is large, 2.4e+11. This might indicate that there are\n",
      "strong multicollinearity or other numerical problems.\n",
      "\n",
      "ANOVA Table:\n",
      "                                  df      sum_sq   mean_sq         F    PR(>F)\n",
      "NTP_M                            1.0    1.922610  1.922610  0.924736  0.340521\n",
      "T7RNAP_u_uL                      1.0    0.928701  0.928701  0.446686  0.506760\n",
      "DNA_ug_mL                        1.0    0.078095  0.078095  0.037562  0.847052\n",
      "Mg2_M                            1.0    2.633324  2.633324  1.266575  0.265387\n",
      "TIME_min                         1.0    0.954130  0.954130  0.458917  0.501023\n",
      "NTP_M:Mg2_M                      1.0    5.133408  5.133408  2.469064  0.121949\n",
      "T7RNAP_u_uL:NTP_M                1.0    0.056530  0.056530  0.027190  0.869644\n",
      "T7RNAP_u_uL:DNA_ug_mL            1.0    0.004697  0.004697  0.002259  0.962264\n",
      "T7RNAP_u_uL:Mg2_M                1.0    0.485486  0.485486  0.233509  0.630888\n",
      "T7RNAP_u_uL:TIME_min             1.0    0.472556  0.472556  0.227290  0.635464\n",
      "DNA_ug_mL:Mg2_M                  1.0    3.794404  3.794404  1.825031  0.182349\n",
      "DNA_ug_mL:TIME_min               1.0    0.235927  0.235927  0.113476  0.737527\n",
      "Mg2_M:TIME_min                   1.0    0.118193  0.118193  0.056848  0.812451\n",
      "NTP_M:DNA_ug_mL                  1.0    0.000607  0.000607  0.000292  0.986426\n",
      "NTP_M:T7RNAP_u_uL:DNA_ug_mL      1.0    2.596969  2.596969  1.249089  0.268674\n",
      "NTP_M:T7RNAP_u_uL:Mg2_M          1.0    0.125048  0.125048  0.060145  0.807196\n",
      "NTP_M:TIME_min                   1.0    1.216748  1.216748  0.585231  0.447600\n",
      "NTP_M:T7RNAP_u_uL:TIME_min       1.0    0.800756  0.800756  0.385147  0.537472\n",
      "NTP_M:DNA_ug_mL:Mg2_M            1.0    0.353553  0.353553  0.170052  0.681698\n",
      "NTP_M:DNA_ug_mL:TIME_min         1.0    2.240468  2.240468  1.077619  0.303857\n",
      "NTP_M:Mg2_M:TIME_min             1.0    4.646594  4.646594  2.234917  0.140745\n",
      "T7RNAP_u_uL:DNA_ug_mL:Mg2_M      1.0    0.007502  0.007502  0.003608  0.952322\n",
      "T7RNAP_u_uL:DNA_ug_mL:TIME_min   1.0    0.078412  0.078412  0.037714  0.846746\n",
      "T7RNAP_u_uL:Mg2_M:TIME_min       1.0    1.185409  1.185409  0.570158  0.453477\n",
      "DNA_ug_mL:Mg2_M:TIME_min         1.0    0.232523  0.232523  0.111839  0.739356\n",
      "Residual                        54.0  112.270885  2.079090       NaN       NaN\n"
     ]
    },
    {
     "data": {
      "application/vnd.plotly.v1+json": {
       "config": {
        "plotlyServerURL": "https://plot.ly"
       },
       "data": [
        {
         "hoverinfo": "text",
         "marker": {
          "color": [
           "steelblue",
           "steelblue",
           "steelblue",
           "steelblue",
           "steelblue",
           "steelblue",
           "steelblue",
           "steelblue",
           "steelblue",
           "steelblue",
           "steelblue",
           "steelblue",
           "steelblue",
           "steelblue",
           "steelblue",
           "steelblue",
           "steelblue",
           "steelblue",
           "steelblue",
           "steelblue",
           "steelblue",
           "steelblue",
           "steelblue",
           "steelblue",
           "steelblue",
           "steelblue"
          ]
         },
         "orientation": "h",
         "text": [
          "F=0.92, p=0.341",
          "F=0.45, p=0.507",
          "F=0.04, p=0.847",
          "F=1.27, p=0.265",
          "F=0.46, p=0.501",
          "F=2.47, p=0.122",
          "F=0.03, p=0.87",
          "F=0.00, p=0.962",
          "F=0.23, p=0.631",
          "F=0.23, p=0.635",
          "F=1.83, p=0.182",
          "F=0.11, p=0.738",
          "F=0.06, p=0.812",
          "F=0.00, p=0.986",
          "F=1.25, p=0.269",
          "F=0.06, p=0.807",
          "F=0.59, p=0.448",
          "F=0.39, p=0.537",
          "F=0.17, p=0.682",
          "F=1.08, p=0.304",
          "F=2.23, p=0.141",
          "F=0.00, p=0.952",
          "F=0.04, p=0.847",
          "F=0.57, p=0.453",
          "F=0.11, p=0.739",
          "F=nan, p=nan"
         ],
         "type": "bar",
         "x": {
          "bdata": "GA3SWhjL1T+mJAZ0YDfgP6hBVygNG+s/4Wh1xhv80D++KrHgYAjgP4MTaD0GOL8/vRlEMx/U6z8h3h183sruP2zuXGE7MOQ/PN8ePrlV5D8LBRmoOFfHP9QDgYDRmec/sD0Ka5n/6T8HqablzJDvPx/KvOD1MdE/Dq1Sm4zU6T/OlgTBeaXcPxZQcVz4MuE/0ujmAnnQ5T81dsX7Y3LTP/Ehh6XwA8I/3gO/HGt57j+iBpoAjBjrPwwlbhnFBd0/h20D/Myo5z8AAAAAAAD4fw==",
          "dtype": "f8"
         },
         "y": [
          "NTP_M",
          "T7RNAP_u_uL",
          "DNA_ug_mL",
          "Mg2_M",
          "TIME_min",
          "NTP_M:Mg2_M",
          "T7RNAP_u_uL:NTP_M",
          "T7RNAP_u_uL:DNA_ug_mL",
          "T7RNAP_u_uL:Mg2_M",
          "T7RNAP_u_uL:TIME_min",
          "DNA_ug_mL:Mg2_M",
          "DNA_ug_mL:TIME_min",
          "Mg2_M:TIME_min",
          "NTP_M:DNA_ug_mL",
          "NTP_M:T7RNAP_u_uL:DNA_ug_mL",
          "NTP_M:T7RNAP_u_uL:Mg2_M",
          "NTP_M:TIME_min",
          "NTP_M:T7RNAP_u_uL:TIME_min",
          "NTP_M:DNA_ug_mL:Mg2_M",
          "NTP_M:DNA_ug_mL:TIME_min",
          "NTP_M:Mg2_M:TIME_min",
          "T7RNAP_u_uL:DNA_ug_mL:Mg2_M",
          "T7RNAP_u_uL:DNA_ug_mL:TIME_min",
          "T7RNAP_u_uL:Mg2_M:TIME_min",
          "DNA_ug_mL:Mg2_M:TIME_min",
          "Residual"
         ]
        }
       ],
       "layout": {
        "annotations": [
         {
          "showarrow": false,
          "text": "p=0.05",
          "x": 0.05,
          "xanchor": "left",
          "xref": "x",
          "y": 1,
          "yanchor": "top",
          "yref": "y domain"
         }
        ],
        "barmode": "stack",
        "height": 800,
        "shapes": [
         {
          "line": {
           "color": "red",
           "dash": "dash",
           "width": 3
          },
          "type": "line",
          "x0": 0.05,
          "x1": 0.05,
          "xref": "x",
          "y0": 0,
          "y1": 1,
          "yref": "y domain"
         }
        ],
        "template": {
         "data": {
          "bar": [
           {
            "error_x": {
             "color": "#2a3f5f"
            },
            "error_y": {
             "color": "#2a3f5f"
            },
            "marker": {
             "line": {
              "color": "#E5ECF6",
              "width": 0.5
             },
             "pattern": {
              "fillmode": "overlay",
              "size": 10,
              "solidity": 0.2
             }
            },
            "type": "bar"
           }
          ],
          "barpolar": [
           {
            "marker": {
             "line": {
              "color": "#E5ECF6",
              "width": 0.5
             },
             "pattern": {
              "fillmode": "overlay",
              "size": 10,
              "solidity": 0.2
             }
            },
            "type": "barpolar"
           }
          ],
          "carpet": [
           {
            "aaxis": {
             "endlinecolor": "#2a3f5f",
             "gridcolor": "white",
             "linecolor": "white",
             "minorgridcolor": "white",
             "startlinecolor": "#2a3f5f"
            },
            "baxis": {
             "endlinecolor": "#2a3f5f",
             "gridcolor": "white",
             "linecolor": "white",
             "minorgridcolor": "white",
             "startlinecolor": "#2a3f5f"
            },
            "type": "carpet"
           }
          ],
          "choropleth": [
           {
            "colorbar": {
             "outlinewidth": 0,
             "ticks": ""
            },
            "type": "choropleth"
           }
          ],
          "contour": [
           {
            "colorbar": {
             "outlinewidth": 0,
             "ticks": ""
            },
            "colorscale": [
             [
              0,
              "#0d0887"
             ],
             [
              0.1111111111111111,
              "#46039f"
             ],
             [
              0.2222222222222222,
              "#7201a8"
             ],
             [
              0.3333333333333333,
              "#9c179e"
             ],
             [
              0.4444444444444444,
              "#bd3786"
             ],
             [
              0.5555555555555556,
              "#d8576b"
             ],
             [
              0.6666666666666666,
              "#ed7953"
             ],
             [
              0.7777777777777778,
              "#fb9f3a"
             ],
             [
              0.8888888888888888,
              "#fdca26"
             ],
             [
              1,
              "#f0f921"
             ]
            ],
            "type": "contour"
           }
          ],
          "contourcarpet": [
           {
            "colorbar": {
             "outlinewidth": 0,
             "ticks": ""
            },
            "type": "contourcarpet"
           }
          ],
          "heatmap": [
           {
            "colorbar": {
             "outlinewidth": 0,
             "ticks": ""
            },
            "colorscale": [
             [
              0,
              "#0d0887"
             ],
             [
              0.1111111111111111,
              "#46039f"
             ],
             [
              0.2222222222222222,
              "#7201a8"
             ],
             [
              0.3333333333333333,
              "#9c179e"
             ],
             [
              0.4444444444444444,
              "#bd3786"
             ],
             [
              0.5555555555555556,
              "#d8576b"
             ],
             [
              0.6666666666666666,
              "#ed7953"
             ],
             [
              0.7777777777777778,
              "#fb9f3a"
             ],
             [
              0.8888888888888888,
              "#fdca26"
             ],
             [
              1,
              "#f0f921"
             ]
            ],
            "type": "heatmap"
           }
          ],
          "histogram": [
           {
            "marker": {
             "pattern": {
              "fillmode": "overlay",
              "size": 10,
              "solidity": 0.2
             }
            },
            "type": "histogram"
           }
          ],
          "histogram2d": [
           {
            "colorbar": {
             "outlinewidth": 0,
             "ticks": ""
            },
            "colorscale": [
             [
              0,
              "#0d0887"
             ],
             [
              0.1111111111111111,
              "#46039f"
             ],
             [
              0.2222222222222222,
              "#7201a8"
             ],
             [
              0.3333333333333333,
              "#9c179e"
             ],
             [
              0.4444444444444444,
              "#bd3786"
             ],
             [
              0.5555555555555556,
              "#d8576b"
             ],
             [
              0.6666666666666666,
              "#ed7953"
             ],
             [
              0.7777777777777778,
              "#fb9f3a"
             ],
             [
              0.8888888888888888,
              "#fdca26"
             ],
             [
              1,
              "#f0f921"
             ]
            ],
            "type": "histogram2d"
           }
          ],
          "histogram2dcontour": [
           {
            "colorbar": {
             "outlinewidth": 0,
             "ticks": ""
            },
            "colorscale": [
             [
              0,
              "#0d0887"
             ],
             [
              0.1111111111111111,
              "#46039f"
             ],
             [
              0.2222222222222222,
              "#7201a8"
             ],
             [
              0.3333333333333333,
              "#9c179e"
             ],
             [
              0.4444444444444444,
              "#bd3786"
             ],
             [
              0.5555555555555556,
              "#d8576b"
             ],
             [
              0.6666666666666666,
              "#ed7953"
             ],
             [
              0.7777777777777778,
              "#fb9f3a"
             ],
             [
              0.8888888888888888,
              "#fdca26"
             ],
             [
              1,
              "#f0f921"
             ]
            ],
            "type": "histogram2dcontour"
           }
          ],
          "mesh3d": [
           {
            "colorbar": {
             "outlinewidth": 0,
             "ticks": ""
            },
            "type": "mesh3d"
           }
          ],
          "parcoords": [
           {
            "line": {
             "colorbar": {
              "outlinewidth": 0,
              "ticks": ""
             }
            },
            "type": "parcoords"
           }
          ],
          "pie": [
           {
            "automargin": true,
            "type": "pie"
           }
          ],
          "scatter": [
           {
            "fillpattern": {
             "fillmode": "overlay",
             "size": 10,
             "solidity": 0.2
            },
            "type": "scatter"
           }
          ],
          "scatter3d": [
           {
            "line": {
             "colorbar": {
              "outlinewidth": 0,
              "ticks": ""
             }
            },
            "marker": {
             "colorbar": {
              "outlinewidth": 0,
              "ticks": ""
             }
            },
            "type": "scatter3d"
           }
          ],
          "scattercarpet": [
           {
            "marker": {
             "colorbar": {
              "outlinewidth": 0,
              "ticks": ""
             }
            },
            "type": "scattercarpet"
           }
          ],
          "scattergeo": [
           {
            "marker": {
             "colorbar": {
              "outlinewidth": 0,
              "ticks": ""
             }
            },
            "type": "scattergeo"
           }
          ],
          "scattergl": [
           {
            "marker": {
             "colorbar": {
              "outlinewidth": 0,
              "ticks": ""
             }
            },
            "type": "scattergl"
           }
          ],
          "scattermap": [
           {
            "marker": {
             "colorbar": {
              "outlinewidth": 0,
              "ticks": ""
             }
            },
            "type": "scattermap"
           }
          ],
          "scattermapbox": [
           {
            "marker": {
             "colorbar": {
              "outlinewidth": 0,
              "ticks": ""
             }
            },
            "type": "scattermapbox"
           }
          ],
          "scatterpolar": [
           {
            "marker": {
             "colorbar": {
              "outlinewidth": 0,
              "ticks": ""
             }
            },
            "type": "scatterpolar"
           }
          ],
          "scatterpolargl": [
           {
            "marker": {
             "colorbar": {
              "outlinewidth": 0,
              "ticks": ""
             }
            },
            "type": "scatterpolargl"
           }
          ],
          "scatterternary": [
           {
            "marker": {
             "colorbar": {
              "outlinewidth": 0,
              "ticks": ""
             }
            },
            "type": "scatterternary"
           }
          ],
          "surface": [
           {
            "colorbar": {
             "outlinewidth": 0,
             "ticks": ""
            },
            "colorscale": [
             [
              0,
              "#0d0887"
             ],
             [
              0.1111111111111111,
              "#46039f"
             ],
             [
              0.2222222222222222,
              "#7201a8"
             ],
             [
              0.3333333333333333,
              "#9c179e"
             ],
             [
              0.4444444444444444,
              "#bd3786"
             ],
             [
              0.5555555555555556,
              "#d8576b"
             ],
             [
              0.6666666666666666,
              "#ed7953"
             ],
             [
              0.7777777777777778,
              "#fb9f3a"
             ],
             [
              0.8888888888888888,
              "#fdca26"
             ],
             [
              1,
              "#f0f921"
             ]
            ],
            "type": "surface"
           }
          ],
          "table": [
           {
            "cells": {
             "fill": {
              "color": "#EBF0F8"
             },
             "line": {
              "color": "white"
             }
            },
            "header": {
             "fill": {
              "color": "#C8D4E3"
             },
             "line": {
              "color": "white"
             }
            },
            "type": "table"
           }
          ]
         },
         "layout": {
          "annotationdefaults": {
           "arrowcolor": "#2a3f5f",
           "arrowhead": 0,
           "arrowwidth": 1
          },
          "autotypenumbers": "strict",
          "coloraxis": {
           "colorbar": {
            "outlinewidth": 0,
            "ticks": ""
           }
          },
          "colorscale": {
           "diverging": [
            [
             0,
             "#8e0152"
            ],
            [
             0.1,
             "#c51b7d"
            ],
            [
             0.2,
             "#de77ae"
            ],
            [
             0.3,
             "#f1b6da"
            ],
            [
             0.4,
             "#fde0ef"
            ],
            [
             0.5,
             "#f7f7f7"
            ],
            [
             0.6,
             "#e6f5d0"
            ],
            [
             0.7,
             "#b8e186"
            ],
            [
             0.8,
             "#7fbc41"
            ],
            [
             0.9,
             "#4d9221"
            ],
            [
             1,
             "#276419"
            ]
           ],
           "sequential": [
            [
             0,
             "#0d0887"
            ],
            [
             0.1111111111111111,
             "#46039f"
            ],
            [
             0.2222222222222222,
             "#7201a8"
            ],
            [
             0.3333333333333333,
             "#9c179e"
            ],
            [
             0.4444444444444444,
             "#bd3786"
            ],
            [
             0.5555555555555556,
             "#d8576b"
            ],
            [
             0.6666666666666666,
             "#ed7953"
            ],
            [
             0.7777777777777778,
             "#fb9f3a"
            ],
            [
             0.8888888888888888,
             "#fdca26"
            ],
            [
             1,
             "#f0f921"
            ]
           ],
           "sequentialminus": [
            [
             0,
             "#0d0887"
            ],
            [
             0.1111111111111111,
             "#46039f"
            ],
            [
             0.2222222222222222,
             "#7201a8"
            ],
            [
             0.3333333333333333,
             "#9c179e"
            ],
            [
             0.4444444444444444,
             "#bd3786"
            ],
            [
             0.5555555555555556,
             "#d8576b"
            ],
            [
             0.6666666666666666,
             "#ed7953"
            ],
            [
             0.7777777777777778,
             "#fb9f3a"
            ],
            [
             0.8888888888888888,
             "#fdca26"
            ],
            [
             1,
             "#f0f921"
            ]
           ]
          },
          "colorway": [
           "#636efa",
           "#EF553B",
           "#00cc96",
           "#ab63fa",
           "#FFA15A",
           "#19d3f3",
           "#FF6692",
           "#B6E880",
           "#FF97FF",
           "#FECB52"
          ],
          "font": {
           "color": "#2a3f5f"
          },
          "geo": {
           "bgcolor": "white",
           "lakecolor": "white",
           "landcolor": "#E5ECF6",
           "showlakes": true,
           "showland": true,
           "subunitcolor": "white"
          },
          "hoverlabel": {
           "align": "left"
          },
          "hovermode": "closest",
          "mapbox": {
           "style": "light"
          },
          "paper_bgcolor": "white",
          "plot_bgcolor": "#E5ECF6",
          "polar": {
           "angularaxis": {
            "gridcolor": "white",
            "linecolor": "white",
            "ticks": ""
           },
           "bgcolor": "#E5ECF6",
           "radialaxis": {
            "gridcolor": "white",
            "linecolor": "white",
            "ticks": ""
           }
          },
          "scene": {
           "xaxis": {
            "backgroundcolor": "#E5ECF6",
            "gridcolor": "white",
            "gridwidth": 2,
            "linecolor": "white",
            "showbackground": true,
            "ticks": "",
            "zerolinecolor": "white"
           },
           "yaxis": {
            "backgroundcolor": "#E5ECF6",
            "gridcolor": "white",
            "gridwidth": 2,
            "linecolor": "white",
            "showbackground": true,
            "ticks": "",
            "zerolinecolor": "white"
           },
           "zaxis": {
            "backgroundcolor": "#E5ECF6",
            "gridcolor": "white",
            "gridwidth": 2,
            "linecolor": "white",
            "showbackground": true,
            "ticks": "",
            "zerolinecolor": "white"
           }
          },
          "shapedefaults": {
           "line": {
            "color": "#2a3f5f"
           }
          },
          "ternary": {
           "aaxis": {
            "gridcolor": "white",
            "linecolor": "white",
            "ticks": ""
           },
           "baxis": {
            "gridcolor": "white",
            "linecolor": "white",
            "ticks": ""
           },
           "bgcolor": "#E5ECF6",
           "caxis": {
            "gridcolor": "white",
            "linecolor": "white",
            "ticks": ""
           }
          },
          "title": {
           "x": 0.05
          },
          "xaxis": {
           "automargin": true,
           "gridcolor": "white",
           "linecolor": "white",
           "ticks": "",
           "title": {
            "standoff": 15
           },
           "zerolinecolor": "white",
           "zerolinewidth": 2
          },
          "yaxis": {
           "automargin": true,
           "gridcolor": "white",
           "linecolor": "white",
           "ticks": "",
           "title": {
            "standoff": 15
           },
           "zerolinecolor": "white",
           "zerolinewidth": 2
          }
         }
        },
        "title": {
         "text": "ANOVA Model Term p-values (red = significant, p < 0.05)"
        },
        "xaxis": {
         "range": [
          0,
          1
         ],
         "title": {
          "text": "p-value"
         }
        },
        "yaxis": {
         "categoryorder": "total ascending",
         "title": {
          "text": "Model Term"
         }
        }
       }
      }
     },
     "metadata": {},
     "output_type": "display_data"
    }
   ],
   "source": [
    "import plotly.graph_objects as go\n",
    "from statsmodels.formula.api import ols\n",
    "from statsmodels.stats.anova import anova_lm\n",
    "\n",
    "# Use descriptive variable names\n",
    "anova_data = pd.DataFrame(\n",
    "    data={\n",
    "        \"dsRNA\": responses.values.ravel(),\n",
    "        \"NTP_M\": experimental_conditions[X_columns[0]].values.ravel(),\n",
    "        \"T7RNAP_u_uL\": experimental_conditions[X_columns[1]].values.ravel(),\n",
    "        \"DNA_ug_mL\": experimental_conditions[X_columns[2]].values.ravel(),\n",
    "        \"Mg2_M\": experimental_conditions[X_columns[3]].values.ravel(),\n",
    "        \"TIME_min\": experimental_conditions[X_columns[4]].values.ravel(),\n",
    "    }\n",
    ")\n",
    "\n",
    "# Build formula with all main effects and all interaction effects (up to 5-way)\n",
    "formula = \"dsRNA ~ NTP_M + T7RNAP_u_uL + DNA_ug_mL + Mg2_M + TIME_min + NTP_M * Mg2_M + T7RNAP_u_uL * NTP_M + T7RNAP_u_uL * DNA_ug_mL + T7RNAP_u_uL * Mg2_M + T7RNAP_u_uL * TIME_min + DNA_ug_mL * Mg2_M + DNA_ug_mL * TIME_min + Mg2_M * TIME_min + NTP_M * T7RNAP_u_uL * DNA_ug_mL + NTP_M * T7RNAP_u_uL * Mg2_M + NTP_M * T7RNAP_u_uL * TIME_min + NTP_M * DNA_ug_mL * Mg2_M + NTP_M * DNA_ug_mL * TIME_min + NTP_M * Mg2_M * TIME_min + T7RNAP_u_uL * DNA_ug_mL * Mg2_M + T7RNAP_u_uL * DNA_ug_mL * TIME_min + T7RNAP_u_uL * Mg2_M * TIME_min + DNA_ug_mL * Mg2_M * TIME_min\"\n",
    "\n",
    "lm = ols(formula=formula, data=anova_data).fit()\n",
    "\n",
    "# Show full model summary\n",
    "print(lm.summary())\n",
    "\n",
    "# ANOVA table\n",
    "anova_results = anova_lm(lm)\n",
    "print(\"\\nANOVA Table:\")\n",
    "print(anova_results)\n",
    "\n",
    "# Extract p-values and F-statistics\n",
    "anova_results = anova_results.reset_index().rename(columns={\"index\": \"Term\"})\n",
    "anova_results[\"Significant\"] = anova_results[\"PR(>F)\"] < 0.05\n",
    "\n",
    "# Plot p-values for all terms\n",
    "fig = go.Figure(\n",
    "    data=[\n",
    "        go.Bar(\n",
    "            y=anova_results[\"Term\"],\n",
    "            x=anova_results[\"PR(>F)\"],\n",
    "            orientation=\"h\",\n",
    "            marker_color=[\n",
    "                \"crimson\" if sig else \"steelblue\"\n",
    "                for sig in anova_results[\"Significant\"]\n",
    "            ],\n",
    "            text=[\n",
    "                f\"F={fval:.2f}, p={pval:.3g}\"\n",
    "                for fval, pval in zip(anova_results[\"F\"], anova_results[\"PR(>F)\"])\n",
    "            ],\n",
    "            hoverinfo=\"text\",\n",
    "        )\n",
    "    ]\n",
    ")\n",
    "\n",
    "fig.add_vline(\n",
    "    x=0.05,\n",
    "    line_width=3,\n",
    "    line_dash=\"dash\",\n",
    "    line_color=\"red\",\n",
    "    annotation_text=\"p=0.05\",\n",
    "    annotation_position=\"top right\",\n",
    ")\n",
    "fig.update_xaxes(title=\"p-value\", range=[0, 1])\n",
    "fig.update_yaxes(title=\"Model Term\")\n",
    "fig.update_layout(\n",
    "    barmode=\"stack\",\n",
    "    title_text=\"ANOVA Model Term p-values (red = significant, p < 0.05)\",\n",
    "    yaxis={\"categoryorder\": \"total ascending\"},\n",
    "    height=800,\n",
    ")"
   ]
  }
 ],
 "metadata": {
  "kernelspec": {
   "display_name": "assimulo",
   "language": "python",
   "name": "python3"
  },
  "language_info": {
   "codemirror_mode": {
    "name": "ipython",
    "version": 3
   },
   "file_extension": ".py",
   "mimetype": "text/x-python",
   "name": "python",
   "nbconvert_exporter": "python",
   "pygments_lexer": "ipython3",
   "version": "3.12.11"
  }
 },
 "nbformat": 4,
 "nbformat_minor": 5
}
