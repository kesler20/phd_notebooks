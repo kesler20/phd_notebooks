{
 "cells": [
  {
   "cell_type": "code",
   "execution_count": null,
   "id": "1087c6bc",
   "metadata": {},
   "outputs": [
    {
     "data": {
      "text/plain": [
       "<matplotlib.collections.PathCollection at 0x21fd6250890>"
      ]
     },
     "execution_count": 2,
     "metadata": {},
     "output_type": "execute_result"
    },
    {
     "data": {
      "image/png": "[encoded data removed]",
      "text/plain": [
       "<Figure size 640x480 with 1 Axes>"
      ]
     },
     "metadata": {},
     "output_type": "display_data"
    }
   ],
   "source": [
    "import r3.schema as schema\n",
    "import r3.adapters as adapters\n",
    "from r3.models.assimulo import assimulo_model as ivt_model\n",
    "import matplotlib.pyplot as plt\n",
    "\n",
    "X_columns = [\n",
    "    schema.IVTReactionSchema.NTP_M.value,\n",
    "    schema.IVTReactionSchema.T7RNAP_u_uL.value,\n",
    "    schema.IVTReactionSchema.DNA_ug_mL.value,\n",
    "    schema.IVTReactionSchema.Mg2_M.value,\n",
    "    schema.IVTReactionSchema.Spd_M.value,\n",
    "    schema.IVTReactionSchema.TIME_min.value,\n",
    "]\n",
    "\n",
    "y_columns = [schema.IVTReactionSchema.RNA_g_L.value]\n",
    "\n",
    "experimental_conditions, response = adapters.DataPipelineAdapter(\n",
    "    \"egfp_lhs\", verbose=False\n",
    ").get(\n",
    "    X_columns=X_columns,\n",
    "    y_columns=y_columns,\n",
    "    paths_to_merge=[[\"csp_lhs\", \"Definitive Screening Design IVT\"]],\n",
    ")\n",
    "\n",
    "model = ivt_model.AssimuloIVTModel(template=schema.DNATemplates.ANY)\n",
    "predictions = model.predict_rna_yield(\n",
    "    experimental_conditions=experimental_conditions,\n",
    "    verbose=False,\n",
    ")\n",
    "\n",
    "# Plot the residuals of the model\n",
    "residuals = (\n",
    "    response[schema.IVTReactionSchema.RNA_g_L.value]\n",
    "    - predictions[schema.IVTReactionSchema.RNA_g_L.value]\n",
    ")"
   ]
  },
  {
   "cell_type": "code",
   "execution_count": 37,
   "id": "140aad65",
   "metadata": {},
   "outputs": [
    {
     "data": {
      "text/plain": [
       "0    -2.110581\n",
       "1    -0.550775\n",
       "2     0.817837\n",
       "3     0.925084\n",
       "4     1.064080\n",
       "        ...   \n",
       "85    0.449169\n",
       "86   -1.818165\n",
       "87   -3.428033\n",
       "88    3.221245\n",
       "89    1.842167\n",
       "Name: RNA [g/L], Length: 90, dtype: float64"
      ]
     },
     "execution_count": 37,
     "metadata": {},
     "output_type": "execute_result"
    }
   ],
   "source": [
    "residuals"
   ]
  },
  {
   "cell_type": "code",
   "execution_count": 6,
   "id": "ac1f812c",
   "metadata": {},
   "outputs": [
    {
     "data": {
      "text/plain": [
       "<matplotlib.collections.PathCollection at 0x21fda4d44a0>"
      ]
     },
     "execution_count": 6,
     "metadata": {},
     "output_type": "execute_result"
    },
    {
     "data": {
      "image/png": "[encoded data removed]",
      "text/plain": [
       "<Figure size 640x480 with 1 Axes>"
      ]
     },
     "metadata": {},
     "output_type": "display_data"
    }
   ],
   "source": [
    "## remove the data points from the original data set where the residuals are less than -4\n",
    "filtered_indices = residuals[residuals > -4].index\n",
    "filtered_experimental_conditions = experimental_conditions.loc[filtered_indices]\n",
    "filtered_response = response.loc[filtered_indices]\n",
    "filtered_residuals = residuals.loc[filtered_indices]\n",
    "plt.scatter(\n",
    "    filtered_experimental_conditions[schema.IVTReactionSchema.NTP_M.value],\n",
    "    filtered_response[schema.IVTReactionSchema.RNA_g_L.value],\n",
    "    label=\"Filtered Data\",\n",
    "    color=\"red\",\n",
    ")"
   ]
  },
  {
   "cell_type": "markdown",
   "id": "013a3955",
   "metadata": {},
   "source": [
    "# Developing Machine Learning Part of the model\n"
   ]
  },
  {
   "cell_type": "code",
   "execution_count": 25,
   "id": "3cc79dd7",
   "metadata": {},
   "outputs": [
    {
     "data": {
      "text/plain": [
       "{'r2': {'train': 0.9994638336576271, 'test': 0.8016569641553577},\n",
       " 'mae': {'train': 0.017883604615718623, 'test': 0.309751968286361},\n",
       " 'rmse': {'train': np.float64(0.0231552659749977),\n",
       "  'test': np.float64(0.44535720028381975)}}"
      ]
     },
     "execution_count": 25,
     "metadata": {},
     "output_type": "execute_result"
    }
   ],
   "source": [
    "from sklearn.gaussian_process import GaussianProcessRegressor\n",
    "from sklearn.gaussian_process.kernels import Matern, RBF, ConstantKernel, WhiteKernel\n",
    "import r3.adapters as adapters\n",
    "from sklearn.model_selection import train_test_split\n",
    "\n",
    "matern_kernel = ConstantKernel(1.0, (1e-2, 1e2)) * Matern(\n",
    "    1.0, (1e-2, 1e2)\n",
    ") + WhiteKernel(noise_level=1e-2, noise_level_bounds=(1e-3, 1e1))\n",
    "gp_model = GaussianProcessRegressor(\n",
    "    kernel=matern_kernel, n_restarts_optimizer=100, alpha=1e-2\n",
    ")\n",
    "\n",
    "X = filtered_experimental_conditions[X_columns].values\n",
    "Y = filtered_response[y_columns].values\n",
    "X_train, X_test, y_train, y_test = train_test_split(\n",
    "    X, Y, test_size=0.2, random_state=42\n",
    ")\n",
    "\n",
    "# autoscaling the data\n",
    "X_train = (X_train - X_train.mean(axis=0)) / X_train.std(axis=0)\n",
    "X_test = (X_test - X_test.mean(axis=0)) / X_test.std(axis=0)\n",
    "y_train = (y_train - y_train.mean(axis=0)) / y_train.std(axis=0)\n",
    "y_test = (y_test - y_test.mean(axis=0)) / y_test.std(axis=0)\n",
    "\n",
    "gp_model.fit(X_train, y_train)\n",
    "adapters.evaluate_model(\n",
    "    model=gp_model,\n",
    "    X_train=X_train,\n",
    "    y_train=y_train,\n",
    "    X_test=X_test,\n",
    "    y_test=y_test,\n",
    ")"
   ]
  },
  {
   "cell_type": "code",
   "execution_count": 39,
   "id": "f243d312",
   "metadata": {},
   "outputs": [
    {
     "data": {
      "text/plain": [
       "{'r2': {'train': 1.0, 'test': 0.5257569790121649},\n",
       " 'mae': {'train': 1.025550403644772e-10, 'test': 0.504666851694145},\n",
       " 'rmse': {'train': np.float64(1.379281240567899e-10),\n",
       "  'test': np.float64(0.6886530483398989)}}"
      ]
     },
     "execution_count": 39,
     "metadata": {},
     "output_type": "execute_result"
    }
   ],
   "source": [
    "# train the Gp on the residuals now\n",
    "\n",
    "\n",
    "matern_kernel = ConstantKernel(1.0, (1e-3, 1e1)) * RBF(1.0, (1e-3, 1e1))\n",
    "gp_model = GaussianProcessRegressor(kernel=matern_kernel, n_restarts_optimizer=300)\n",
    "\n",
    "X = filtered_experimental_conditions[X_columns].values\n",
    "Y = filtered_residuals.values.reshape(-1, 1)  # Reshape for single output\n",
    "X_train, X_test, y_train, y_test = train_test_split(\n",
    "    X, Y, test_size=0.2, random_state=42\n",
    ")\n",
    "\n",
    "# autoscaling the data\n",
    "X_train = (X_train - X_train.mean(axis=0)) / X_train.std(axis=0)\n",
    "X_test = (X_test - X_test.mean(axis=0)) / X_test.std(axis=0)\n",
    "y_train = (y_train - y_train.mean(axis=0)) / y_train.std(axis=0)\n",
    "y_test = (y_test - y_test.mean(axis=0)) / y_test.std(axis=0)\n",
    "\n",
    "gp_model.fit(X_train, y_train)\n",
    "adapters.evaluate_model(\n",
    "    model=gp_model,\n",
    "    X_train=X_train,\n",
    "    y_train=y_train,\n",
    "    X_test=X_test,\n",
    "    y_test=y_test,\n",
    ")"
   ]
  },
  {
   "cell_type": "code",
   "execution_count": null,
   "id": "d9b9d5f3",
   "metadata": {},
   "outputs": [
    {
     "name": "stdout",
     "output_type": "stream",
     "text": [
      "{'r2': {'train': 0.8889501043500956, 'test': -0.061092091723942143}, 'mae': {'train': 0.2548571128092568, 'test': 0.7665962759160445}, 'rmse': {'train': np.float64(0.3332414974907903), 'test': np.float64(1.03009324418906)}}\n",
      "{'r2': {'train': 0.9999993700257859, 'test': -0.7117620680249215}, 'mae': {'train': 0.0005235216226504688, 'test': 0.9843958068906365}, 'rmse': {'train': np.float64(0.0007937091495480203), 'test': np.float64(1.3083432531354002)}}\n"
     ]
    }
   ],
   "source": [
    "# try the same with xgboost and random forest\n",
    "\n",
    "from sklearn.ensemble import RandomForestRegressor\n",
    "\n",
    "rf_model = RandomForestRegressor(n_estimators=100, random_state=42)\n",
    "rf_model.fit(X_train, y_train)\n",
    "print(\n",
    "    adapters.evaluate_model(\n",
    "        model=rf_model,\n",
    "        X_train=X_train,\n",
    "        y_train=y_train,\n",
    "        X_test=X_test,\n",
    "        y_test=y_test,\n",
    "    )\n",
    ")\n",
    "from xgboost import XGBRegressor\n",
    "\n",
    "xgb_model = XGBRegressor(n_estimators=100, random_state=42)\n",
    "xgb_model.fit(X_train, y_train)\n",
    "print(\n",
    "    adapters.evaluate_model(\n",
    "        model=xgb_model,\n",
    "        X_train=X_train,\n",
    "        y_train=y_train,\n",
    "        X_test=X_test,\n",
    "        y_test=y_test,\n",
    "    )\n",
    ")"
   ]
  },
  {
   "cell_type": "code",
   "execution_count": 43,
   "id": "7cade11f",
   "metadata": {},
   "outputs": [
    {
     "data": {
      "text/plain": [
       "{'r2': {'train': 1.0, 'test': 0.32215681318103895},\n",
       " 'mae': {'train': 1.0421620560038934e-10, 'test': 0.5820143211137946},\n",
       " 'rmse': {'train': np.float64(1.3984067273476306e-10),\n",
       "  'test': np.float64(0.8156184459281252)}}"
      ]
     },
     "execution_count": 43,
     "metadata": {},
     "output_type": "execute_result"
    }
   ],
   "source": [
    "# Build discrepancy model combining the assimulo model and the GP model\n",
    "\n",
    "matern_kernel = ConstantKernel(1.0, (1e-3, 1e1)) * RBF(1.0, (1e-3, 1e1))\n",
    "gp_model = GaussianProcessRegressor(kernel=matern_kernel, n_restarts_optimizer=300)\n",
    "\n",
    "# Use StandardScaler to scale the predictions\n",
    "from sklearn.preprocessing import StandardScaler\n",
    "\n",
    "scalerX = StandardScaler()\n",
    "scalerY = StandardScaler()\n",
    "X_scaled = scalerX.fit_transform(filtered_experimental_conditions[X_columns].values)\n",
    "Y_scaled = scalerY.fit_transform(filtered_residuals.values.reshape(-1, 1))\n",
    "\n",
    "## Train test split\n",
    "X_train, X_test, y_train, y_test = train_test_split(\n",
    "    X_scaled, Y_scaled, test_size=0.2, random_state=42\n",
    ")\n",
    "\n",
    "gp_model.fit(X_train, y_train)\n",
    "adapters.evaluate_model(\n",
    "    model=gp_model,\n",
    "    X_train=X_train,\n",
    "    y_train=y_train,\n",
    "    X_test=X_test,\n",
    "    y_test=y_test,\n",
    ")"
   ]
  }
 ],
 "metadata": {
  "kernelspec": {
   "display_name": "assimulo",
   "language": "python",
   "name": "python3"
  },
  "language_info": {
   "codemirror_mode": {
    "name": "ipython",
    "version": 3
   },
   "file_extension": ".py",
   "mimetype": "text/x-python",
   "name": "python",
   "nbconvert_exporter": "python",
   "pygments_lexer": "ipython3",
   "version": "3.12.11"
  }
 },
 "nbformat": 4,
 "nbformat_minor": 5
}
